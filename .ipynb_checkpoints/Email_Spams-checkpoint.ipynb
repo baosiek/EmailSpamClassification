{
 "cells": [
  {
   "cell_type": "markdown",
   "metadata": {},
   "source": [
    "<h1><center>Email Spam Classifier</center></h1>"
   ]
  },
  {
   "cell_type": "markdown",
   "metadata": {},
   "source": [
    "This project is based on Manning's book \"Transfer Learning for NLP\" in chapter 2\n",
    "The goal is to:\n",
    "1. Curate a dataset with emails and spam consisting of random 1000 samples of each class\n",
    "2. Extract from the emails only the text,i.e, no headers.\n",
    "3. Create a simple bag-of-words model from the above content. Simple because it is based on term frequency (tf)\n",
    "4. Choose one baseline classifier from Logistic Regression and Gradient Boosting Machine\n",
    "5. Assess is the metric of choice as the dataset is balanced and consists of two classes"
   ]
  },
  {
   "cell_type": "code",
   "execution_count": 1,
   "metadata": {},
   "outputs": [],
   "source": [
    "# Import requiered libraries\n",
    "import pandas as pd\n",
    "import numpy as np\n",
    "import email\n",
    "import os\n",
    "import pickle"
   ]
  },
  {
   "cell_type": "markdown",
   "metadata": {},
   "source": [
    "Define data file path, i.e., directory where data to train the classifier is. As this is a csv type the file is loaded with pandas read_csv function. If successfull the number of rows and columns with the first 5 rows are printed."
   ]
  },
  {
   "cell_type": "code",
   "execution_count": 2,
   "metadata": {},
   "outputs": [
    {
     "name": "stdout",
     "output_type": "stream",
     "text": [
      "Emails were loaded successfully containing 517401 rows and 2 columns\n",
      "Printing 5 first rows...\n",
      "                       file                                            message\n",
      "0     allen-p/_sent_mail/1.  Message-ID: <18782981.1075855378110.JavaMail.e...\n",
      "1    allen-p/_sent_mail/10.  Message-ID: <15464986.1075855378456.JavaMail.e...\n",
      "2   allen-p/_sent_mail/100.  Message-ID: <24216240.1075855687451.JavaMail.e...\n",
      "3  allen-p/_sent_mail/1000.  Message-ID: <13505866.1075863688222.JavaMail.e...\n",
      "4  allen-p/_sent_mail/1001.  Message-ID: <30922949.1075863688243.JavaMail.e...\n"
     ]
    }
   ],
   "source": [
    "data_file_path = \"/home/baosiek/Documents/deep_learning/transfer-learning/data/emails.csv\"\n",
    "emails = pd.read_csv(data_file_path)\n",
    "print(\"Emails were loaded successfully containing {} rows and {} columns\".format(emails.shape[0], emails.shape[1]))\n",
    "print(\"Printing 5 first rows...\")\n",
    "print(emails.head(5))"
   ]
  },
  {
   "cell_type": "markdown",
   "metadata": {},
   "source": [
    "Prints the contect of the first email, under the message column, enabling data understanding."
   ]
  },
  {
   "cell_type": "code",
   "execution_count": 3,
   "metadata": {},
   "outputs": [
    {
     "name": "stdout",
     "output_type": "stream",
     "text": [
      "Message-ID: <18782981.1075855378110.JavaMail.evans@thyme>\n",
      "Date: Mon, 14 May 2001 16:39:00 -0700 (PDT)\n",
      "From: phillip.allen@enron.com\n",
      "To: tim.belden@enron.com\n",
      "Subject: \n",
      "Mime-Version: 1.0\n",
      "Content-Type: text/plain; charset=us-ascii\n",
      "Content-Transfer-Encoding: 7bit\n",
      "X-From: Phillip K Allen\n",
      "X-To: Tim Belden <Tim Belden/Enron@EnronXGate>\n",
      "X-cc: \n",
      "X-bcc: \n",
      "X-Folder: \\Phillip_Allen_Jan2002_1\\Allen, Phillip K.\\'Sent Mail\n",
      "X-Origin: Allen-P\n",
      "X-FileName: pallen (Non-Privileged).pst\n",
      "\n",
      "Here is our forecast\n",
      "\n",
      " \n"
     ]
    }
   ],
   "source": [
    "print(emails.loc[0, \"message\"])"
   ]
  },
  {
   "cell_type": "markdown",
   "metadata": {},
   "source": [
    "Lets get only the text part of the message, discarding date, from, to and Subject info. "
   ]
  },
  {
   "cell_type": "code",
   "execution_count": 4,
   "metadata": {},
   "outputs": [],
   "source": [
    "def extract_text(emails):\n",
    "\n",
    "    # Initializes a list of texts where each row will contain only the content of the email\n",
    "    contents = []\n",
    "    \n",
    "    for item in emails[\"message\"]:\n",
    "        e = email.message_from_string(item)\n",
    "        content = e.get_payload() # Gets only a string with the email content\n",
    "        contents.append(content)\n",
    "        \n",
    "    return contents"
   ]
  },
  {
   "cell_type": "code",
   "execution_count": 5,
   "metadata": {},
   "outputs": [
    {
     "name": "stdout",
     "output_type": "stream",
     "text": [
      "I tried the new address but I don't have access.  also, what do I need to \n",
      "enter under domain?\n"
     ]
    }
   ],
   "source": [
    "# This process may take sometime. So we first check if the emails were already\n",
    "# processed with their respective content in a list. If this data is not found this \n",
    "# procedure extracts the content from the emails and stores it.\n",
    "if not os.path.exists('/home/baosiek/Documents/deep_learning/transfer-learning/data/contents.txt'):\n",
    "    contents = extract_text(emails)\n",
    "    with open(\"./data/contents.txt\", \"wb\") as fp:   # Serializing\n",
    "        pickle.dump(contents, fp)\n",
    "else:\n",
    "    with open(\"./data/contents.txt\", \"rb\") as fp:   # Deserializing\n",
    "        contents = pickle.load(fp)\n",
    "        \n",
    "\n",
    "# Prints the content at row 100\n",
    "print(contents[100])"
   ]
  },
  {
   "cell_type": "markdown",
   "metadata": {},
   "source": [
    "Testing if number of rows in emails data frame and contents list data structure are equal."
   ]
  },
  {
   "cell_type": "code",
   "execution_count": 6,
   "metadata": {},
   "outputs": [
    {
     "name": "stdout",
     "output_type": "stream",
     "text": [
      "Success!\n"
     ]
    }
   ],
   "source": [
    "if len(contents) == emails.shape[0]:\n",
    "    print(\"Success!\")"
   ]
  },
  {
   "cell_type": "markdown",
   "metadata": {},
   "source": [
    "Converts contents list into a data frame and prints the first 5 emails contents"
   ]
  },
  {
   "cell_type": "code",
   "execution_count": 7,
   "metadata": {},
   "outputs": [
    {
     "name": "stdout",
     "output_type": "stream",
     "text": [
      "                                                   0\n",
      "0                          Here is our forecast\\n\\n \n",
      "1  Traveling to have a business meeting takes the...\n",
      "2                     test successful.  way to go!!!\n",
      "3  Randy,\\n\\n Can you send me a schedule of the s...\n",
      "4                Let's shoot for Tuesday at 11:45.  \n"
     ]
    }
   ],
   "source": [
    "contents_df = pd.DataFrame(contents)\n",
    "print(contents_df.head(n=5))"
   ]
  },
  {
   "cell_type": "markdown",
   "metadata": {},
   "source": [
    "# The Spam dataset"
   ]
  },
  {
   "cell_type": "code",
   "execution_count": 8,
   "metadata": {},
   "outputs": [
    {
     "name": "stdout",
     "output_type": "stream",
     "text": [
      "Spams was successfully downloaded and contains 3977 emails\n",
      "                                                   0\n",
      "0  FROM:MR. JAMES NGOLA.\\nCONFIDENTIAL TEL: 233-2...\n",
      "1  Dear Friend,\\n\\nI am Mr. Ben Suleman a custom ...\n",
      "2  FROM HIS ROYAL MAJESTY (HRM) CROWN RULER OF EL...\n",
      "3  FROM HIS ROYAL MAJESTY (HRM) CROWN RULER OF EL...\n",
      "4  Dear sir, \\n \\nIt is with a heart full of hope...\n"
     ]
    }
   ],
   "source": [
    "data_file_path = \"/home/baosiek/Documents/deep_learning/transfer-learning/data/fradulent_emails.txt\"\n",
    "with open(data_file_path, 'r', encoding='latin1') as file:\n",
    "    spams = file.read()\n",
    "# spams is a long string beacause originally the data downloaded is a single text file.\n",
    "# We need to find how to split this entire file into units where each one in a single email.\n",
    "# So reading the downloaded file with Gedit we can conclude that each email starts with\n",
    "# the char sequence \"From r\". So we will use this to split this big string into a list of emails.\n",
    "# The reason why we associate to the final structure all emails from 1 and not 0 is because the \n",
    "# original file starts with 'From r' splitting it into an empty first element and the first email in\n",
    "# the second elemnt of the spams list\n",
    "spams = spams.split('From r')[1:]\n",
    "print(f'Spams was successfully downloaded and contains {len(spams)} emails')\n",
    "\n",
    "spams_df = extract_text(pd.DataFrame(spams, columns=['message']))\n",
    "spams_df = pd.DataFrame(spams_df)\n",
    "print(spams_df.head())"
   ]
  },
  {
   "cell_type": "markdown",
   "metadata": {},
   "source": [
    "# Hyperparameters"
   ]
  },
  {
   "cell_type": "markdown",
   "metadata": {},
   "source": [
    "Now lets create the dataset to train classifiers. It will contain n_samples from each data frame (emails and spams). Each sample will contain max_tokens and each token max_characters as hyperparameters to enable acceptable performance for training and classification."
   ]
  },
  {
   "cell_type": "code",
   "execution_count": 9,
   "metadata": {},
   "outputs": [],
   "source": [
    "n_samples = 1000 # number of samples frome each data frame\n",
    "max_tokens = 50 # maximum number of tokens in each email\n",
    "max_chars = 20 # maximum length of each token"
   ]
  },
  {
   "cell_type": "markdown",
   "metadata": {},
   "source": [
    "Function to tokenize emails"
   ]
  },
  {
   "cell_type": "code",
   "execution_count": 10,
   "metadata": {},
   "outputs": [],
   "source": [
    "def tokenize(row):\n",
    "    \n",
    "    if row == None or row == '' or type(row) == list:\n",
    "        tokens = \"\"\n",
    "    else:\n",
    "        tokens = row.split(\" \")[:max_tokens]\n",
    "        \n",
    "    return tokens"
   ]
  },
  {
   "cell_type": "markdown",
   "metadata": {},
   "source": [
    "Function to extract punctuations, lowercase all tokens anf limit token size"
   ]
  },
  {
   "cell_type": "code",
   "execution_count": 11,
   "metadata": {},
   "outputs": [],
   "source": [
    "import re\n",
    "\n",
    "def clean_text(token_list):\n",
    "    \n",
    "    tokens = []\n",
    "    \n",
    "    try:\n",
    "        for token in token_list:\n",
    "            token = token.lower()\n",
    "            token = re.sub(r'[\\W\\d]', \"\", token)[:max_chars]\n",
    "            tokens.append(token)\n",
    "            \n",
    "    except:\n",
    "        tokens.append(\"\")\n",
    "        \n",
    "    return tokens    "
   ]
  },
  {
   "cell_type": "markdown",
   "metadata": {},
   "source": [
    "Removing stopwords"
   ]
  },
  {
   "cell_type": "code",
   "execution_count": 12,
   "metadata": {},
   "outputs": [
    {
     "name": "stderr",
     "output_type": "stream",
     "text": [
      "[nltk_data] Downloading package stopwords to\n",
      "[nltk_data]     /home/baosiek/nltk_data...\n",
      "[nltk_data]   Package stopwords is already up-to-date!\n"
     ]
    }
   ],
   "source": [
    "import nltk\n",
    "nltk.download('stopwords')\n",
    "from nltk.corpus import stopwords\n",
    "\n",
    "stopwords = stopwords.words('english')\n",
    "\n",
    "def stopwords_removal(token_list):\n",
    "    \n",
    "    token = [token for token in token_list if token not in stopwords]\n",
    "    token = filter(None, token)\n",
    "    return token"
   ]
  },
  {
   "cell_type": "markdown",
   "metadata": {},
   "source": [
    "Build dataframe with emails and spams."
   ]
  },
  {
   "cell_type": "code",
   "execution_count": 13,
   "metadata": {},
   "outputs": [
    {
     "name": "stdout",
     "output_type": "stream",
     "text": [
      "real_emails dataframe contains 1000 samples. Listing first 5...\n",
      "99362     [post, date, november, , , category, shortterm...\n",
      "122097    [as, may, aware, i, conducting, inhouse, semin...\n",
      "338486    [daddyi, hope, im, overstepping, boundaries, i...\n",
      "100206    [darenwe, deal, rest, month, d, meter, , , qe,...\n",
      "298540    [poor, baby, im, taking, off, hope, feel, bett...\n",
      "Name: 0, dtype: object\n"
     ]
    }
   ],
   "source": [
    "real_emails = contents_df.iloc[:, 0]\n",
    "real_emails = real_emails.apply(tokenize)\n",
    "real_emails = real_emails.apply(stopwords_removal)\n",
    "real_emails = real_emails.apply(clean_text)\n",
    "real_emails = real_emails.sample(n_samples)\n",
    "print(f'real_emails dataframe contains {real_emails.shape[0]} samples. Listing first 5...')\n",
    "print(real_emails.head(n=5))"
   ]
  },
  {
   "cell_type": "code",
   "execution_count": 14,
   "metadata": {},
   "outputs": [
    {
     "name": "stdout",
     "output_type": "stream",
     "text": [
      "spam_emails dataframe contains 1000 samples. Listing first 5...\n",
      "3750                                                   []\n",
      "1178                                                   []\n",
      "2219    [htmlddpbrbrfromdrben, hillsbrnational, westmi...\n",
      "2115    [complimentfrom, mrs, victoria, fatou, sankohe...\n",
      "831     [my, dear, friendc, i, got, know, search, repu...\n",
      "Name: 0, dtype: object\n"
     ]
    }
   ],
   "source": [
    "spam_emails = spams_df.iloc[:, 0]\n",
    "spam_emails = spam_emails.apply(tokenize)\n",
    "spam_emails = spam_emails.apply(stopwords_removal)\n",
    "spam_emails = spam_emails.apply(clean_text)\n",
    "spam_emails = spam_emails.sample(n_samples)\n",
    "print(f'spam_emails dataframe contains {spam_emails.shape[0]} samples. Listing first 5...')\n",
    "print(spam_emails.head(n=5))"
   ]
  },
  {
   "cell_type": "markdown",
   "metadata": {},
   "source": [
    "Lets combine these two data frames into one NP array"
   ]
  },
  {
   "cell_type": "code",
   "execution_count": 15,
   "metadata": {},
   "outputs": [
    {
     "name": "stdout",
     "output_type": "stream",
     "text": [
      "data is a <class 'numpy.ndarray'>. Shape is (2000,).\n",
      "[list([]) list([])\n",
      " list(['htmlddpbrbrfromdrben', 'hillsbrnational', 'westminster', 'bankbrnatwest', 'bank', 'londonbrbristol', 'city', 'officebrpo', 'box', 'br', 'corn', 'streetbrbristol', 'bs', 'ugbrunited', 'kingdombremailowo_ix', 'daypdpi', 'staff', 'natwest', 'bank', 'london', 'i', 'writing', 'following', 'anbroppurtunity', 'office', 'imense', 'benefit', 'us', 'in', 'mybrdepartment', 'discovered', 'abandoned', 'sum', 'camillion'])\n",
      " ...\n",
      " list(['chris', 'information', 'contracts', 'forwarded', 'scott', 'goodellcorpenron', '', '', 'am', 'jeanne', 'wukasch', '', 'amto', 'scott', 'goodellcorpenronenro', 'subject', 'bridgeline', '', 'flash', 'scott', '', 'i', 'see', 'bridgeline', 'listed', 'se', 'desk', 'spreadsheet', 'march', 'should'])\n",
      " list(['', 'forwarded', 'kay', 'manncorpenron', '', '', 'am', 'keegan', 'farrell', '', 'amto', 'rae', 'meadowsenronenronxga', 'bcc', 'kay', 'manncorpenronsubject', 'legal', 'precedencethis', 'funny', 'pass', 'along', 'have', 'great', 'weekendsubject', 'three', 'kick', 'rule', 'a', 'big', 'city', 'lawyer', 'went', 'duck', 'hunting', 'south', 'louisiana', 'he', 'shot'])\n",
      " list(['taerystrystrystry'])]\n"
     ]
    }
   ],
   "source": [
    "data = pd.concat([spam_emails, real_emails], axis=0).values\n",
    "print(f'data is a {type(data)}. Shape is {data.shape}.')\n",
    "print(data)"
   ]
  },
  {
   "cell_type": "markdown",
   "metadata": {},
   "source": [
    "Creting labels to the emails in data. The first 1000 columsn [:1000] are real emails (label=1) and the last 1000 [1000:] are spams (label=0)"
   ]
  },
  {
   "cell_type": "code",
   "execution_count": 16,
   "metadata": {},
   "outputs": [
    {
     "name": "stdout",
     "output_type": "stream",
     "text": [
      "labels has shape 2000\n",
      "[1, 1, 1, 1, 1]\n",
      "[0, 0, 0, 0, 0]\n"
     ]
    }
   ],
   "source": [
    "categories = ['spam', 'real']\n",
    "labels = ([1]*n_samples) # spams\n",
    "labels.extend(([0]*n_samples)) # emails\n",
    "\n",
    "print(f'labels has shape {len(labels)}')\n",
    "print(labels[:5]) # printing first 5 real labels\n",
    "print(labels[1000: 1005]) # printing first spam labels"
   ]
  },
  {
   "cell_type": "code",
   "execution_count": 26,
   "metadata": {},
   "outputs": [
    {
     "name": "stdout",
     "output_type": "stream",
     "text": [
      "   bank  since  i  us  my  utmost  urgent  burkina  of  africa  ...  philips  \\\n",
      "0     0      0  0   0   0       0       0        0   0       0  ...        0   \n",
      "1     0      0  0   0   0       0       0        0   0       0  ...        0   \n",
      "2     2      0  1   1   0       0       0        0   0       0  ...        0   \n",
      "3     0      2  1   1   1       0       0        0   0       0  ...        0   \n",
      "4     0      0  3   0   1       1       1        0   0       0  ...        0   \n",
      "5     0      0  0   0   0       0       0        0   0       0  ...        0   \n",
      "6     0      0  1   0   0       1       1        2   1       1  ...        0   \n",
      "7     1      0  0   0   1       0       0        1   3       2  ...        0   \n",
      "8     0      0  1   0   0       0       0        0   0       0  ...        0   \n",
      "9     0      0  2   0   0       0       0        0   0       0  ...        0   \n",
      "\n",
      "   acquired  bought  thus  interests  bridgeline  rae  kick  rule  louisiana  \n",
      "0         0       0     0          0           0    0     0     0          0  \n",
      "1         0       0     0          0           0    0     0     0          0  \n",
      "2         0       0     0          0           0    0     0     0          0  \n",
      "3         0       0     0          0           0    0     0     0          0  \n",
      "4         0       0     0          0           0    0     0     0          0  \n",
      "5         0       0     0          0           0    0     0     0          0  \n",
      "6         0       0     0          0           0    0     0     0          0  \n",
      "7         0       0     0          0           0    0     0     0          0  \n",
      "8         0       0     0          0           0    0     0     0          0  \n",
      "9         0       0     0          0           0    0     0     0          0  \n",
      "\n",
      "[10 rows x 4740 columns]\n"
     ]
    }
   ],
   "source": [
    "def bag_of_words(data):\n",
    "    \n",
    "    all_tokens = []\n",
    "    used_tokens = []\n",
    "    for row in data:\n",
    "        for token in row:\n",
    "            if token in all_tokens:\n",
    "                if token not in used_tokens:\n",
    "                    used_tokens.append(token)\n",
    "            else:\n",
    "                all_tokens.append(token)\n",
    "                \n",
    "    bow_df = pd.DataFrame(0, index=np.arange(len(data)), columns=used_tokens, dtype=int)\n",
    "    \n",
    "    for index, row in enumerate(data):\n",
    "        for token in row:\n",
    "            if token in used_tokens:\n",
    "                bow_df.iloc[index][token] += 1\n",
    "    \n",
    "    return bow_df\n",
    "\n",
    "bow_df = bag_of_words(data)\n",
    "print(bow_df.head(n=10))"
   ]
  },
  {
   "cell_type": "code",
   "execution_count": 27,
   "metadata": {},
   "outputs": [],
   "source": [
    "predictors = [column for column in bow_df.columns]"
   ]
  },
  {
   "cell_type": "markdown",
   "metadata": {},
   "source": [
    "Shuffling data"
   ]
  },
  {
   "cell_type": "code",
   "execution_count": 18,
   "metadata": {},
   "outputs": [
    {
     "name": "stdout",
     "output_type": "stream",
     "text": [
      "data shape: (2000, 4740)\n",
      "labels shape: (2000,)\n",
      "Sucsess!\n"
     ]
    }
   ],
   "source": [
    "def shuffle_data(data_np, labels_lst):\n",
    "    shuffled_index = np.random.permutation(len(labels_lst))\n",
    "    data_np = data_np[shuffled_index]\n",
    "    labels_np = np.asarray(labels_lst)[shuffled_index]\n",
    "    return data_np, labels_np\n",
    "    \n",
    "data_np, labels_np = shuffle_data(bow_df.values, labels)\n",
    "print(f'data shape: {data_np.shape}')\n",
    "print(f'labels shape: {labels_np.shape}')\n",
    "\n",
    "if data_np.shape[0] == labels_np.shape[0]:\n",
    "    print(\"Sucsess!\")\n",
    "else:\n",
    "    print(\"Failure!\")"
   ]
  },
  {
   "cell_type": "markdown",
   "metadata": {},
   "source": [
    "Divide data into training and testing sets"
   ]
  },
  {
   "cell_type": "code",
   "execution_count": 19,
   "metadata": {},
   "outputs": [
    {
     "name": "stdout",
     "output_type": "stream",
     "text": [
      "train input shape (1400, 4740), train labels shape (1400,)\n",
      "test input shape (600, 4740), test labels shape (600,)\n",
      "Success. Shapes are ok!\n"
     ]
    }
   ],
   "source": [
    "idx = int(data_np.shape[0]*0.7)\n",
    "train_X = data_np[:idx]\n",
    "train_y = labels_np[:idx]\n",
    "test_X = data_np[idx:]\n",
    "test_y = labels_np[idx:]\n",
    "print(f'train input shape {train_X.shape}, train labels shape {train_y.shape}')\n",
    "print(f'test input shape {test_X.shape}, test labels shape {test_y.shape}')\n",
    "if train_X.shape[0] + test_X.shape[0] == data.shape[0]:\n",
    "    if train_y.shape[0] + test_y.shape[0] == data.shape[0]:\n",
    "        print(\"Success. Shapes are ok!\")\n",
    "    else:\n",
    "        print(\"Failure!\")\n",
    "else:\n",
    "    print(\"Failure!\")"
   ]
  },
  {
   "cell_type": "markdown",
   "metadata": {},
   "source": [
    "# Logistic Regression Classifier"
   ]
  },
  {
   "cell_type": "code",
   "execution_count": 20,
   "metadata": {},
   "outputs": [],
   "source": [
    "from sklearn.linear_model import LogisticRegression\n",
    "\n",
    "def fit(train_X, train_y):\n",
    "    \n",
    "    model = LogisticRegression()\n",
    "    \n",
    "    try:\n",
    "        model.fit(train_X, train_y)\n",
    "    except:\n",
    "        pass\n",
    "    \n",
    "    return model"
   ]
  },
  {
   "cell_type": "code",
   "execution_count": 21,
   "metadata": {},
   "outputs": [],
   "source": [
    "model = fit(train_X, train_y)"
   ]
  },
  {
   "cell_type": "code",
   "execution_count": 22,
   "metadata": {},
   "outputs": [],
   "source": [
    "predictions = model.predict(test_X)"
   ]
  },
  {
   "cell_type": "code",
   "execution_count": 23,
   "metadata": {},
   "outputs": [
    {
     "name": "stdout",
     "output_type": "stream",
     "text": [
      "LogisticRegression accucary is: 0.9166666666666666\n"
     ]
    }
   ],
   "source": [
    "from sklearn.metrics import accuracy_score\n",
    "\n",
    "accuracy_score = accuracy_score(test_y, predictions)\n",
    "print(f'LogisticRegression accucary is: {accuracy_score}')"
   ]
  },
  {
   "cell_type": "markdown",
   "metadata": {},
   "source": [
    "# Gradient Boosting Machine\n",
    "\n",
    "Considered to be the best class of methods for addressing non-perceptual ML problems."
   ]
  },
  {
   "cell_type": "code",
   "execution_count": 29,
   "metadata": {},
   "outputs": [],
   "source": [
    "from sklearn.ensemble import GradientBoostingClassifier\n",
    "from sklearn import metrics\n",
    "from sklearn.model_selection import cross_val_score\n",
    "import time\n",
    "\n",
    "def model_fit(classifier, train_X, train_y, test_X, test_y, predictors, performCV=True, cv_folds=5):\n",
    "    \n",
    "    classifier.fit(train_X, train_y)\n",
    "    predictions = classifier.predict(test_X)\n",
    "    pred_prob = classifier.predict_proba(test_X)[:, 1]\n",
    "    if performCV:\n",
    "        cv_score = cross_val_score(classifier, train_X, train_y, cv=cv_folds, scoring='roc_auc')\n",
    "        # area under the Receiver Operating Characteristic curve\n",
    "        \n",
    "    print(\"Model Report\")\n",
    "    print(f'Accuracy: {metrics.accuracy_score(test_y, predictions)}')\n",
    "    print(\"AUC Score (Train): %f\" % metrics.roc_auc_score(test_y, pred_prob))\n",
    "    \n",
    "    if performCV:\n",
    "        print(\"CV Score : Mean - %.7g | Std - %.7g | Min - %.7g | Max - %.7g\" % (np.mean(cv_score),np.std(cv_score),np.min(cv_score),np.max(cv_score)))\n",
    "        \n",
    "    #print(classifier.feature_importances_.shape[0],len(predictors))\n",
    "    feat_imp = pd.Series(classifier.feature_importances_,predictors).sort_values(ascending=False)\n",
    "    feat_imp[:10].plot(kind='bar',title='Feature Importances')\n",
    "    \n",
    "    return classifier.predict(test_X), classifier.predict_proba(test_X)\n",
    "    "
   ]
  },
  {
   "cell_type": "code",
   "execution_count": 30,
   "metadata": {},
   "outputs": [
    {
     "name": "stdout",
     "output_type": "stream",
     "text": [
      "Model Report\n",
      "Accuracy: 0.8716666666666667\n",
      "AUC Score (Train): 0.949057\n",
      "CV Score : Mean - 0.9652887 | Std - 0.01604222 | Min - 0.9405875 | Max - 0.9851154\n",
      "Training time: 92.39936876296997\n"
     ]
    },
    {
     "data": {
      "image/png": "[encoded data removed]",
      "text/plain": [
       "<Figure size 432x288 with 1 Axes>"
      ]
     },
     "metadata": {
      "needs_background": "light"
     },
     "output_type": "display_data"
    }
   ],
   "source": [
    "gbc = GradientBoostingClassifier(random_state=10)\n",
    "start = time.time()\n",
    "test_predictions, test_prob = model_fit(gbc, train_X, train_y, test_X, test_y, predictors)\n",
    "stop = time.time()\n",
    "print(f'Training time: {stop - start}')"
   ]
  },
  {
   "cell_type": "markdown",
   "metadata": {},
   "source": [
    "Testing accuracy of 0.87 is lower than the mean average accuracy of the 5-fold cross validation, 0.965, which is an indication of overfitting."
   ]
  },
  {
   "cell_type": "markdown",
   "metadata": {},
   "source": [
    "# ROC Curve"
   ]
  },
  {
   "cell_type": "code",
   "execution_count": 31,
   "metadata": {},
   "outputs": [],
   "source": [
    "test_prob_max = []\n",
    "for i in range(test_prob.shape[0]):\n",
    "    test_prob_max.append(test_prob[i, test_y[i]])\n",
    "    \n",
    "fpr, tpr, thresholds = metrics.roc_curve(test_y, np.array(test_prob_max))"
   ]
  },
  {
   "cell_type": "code",
   "execution_count": 32,
   "metadata": {},
   "outputs": [
    {
     "data": {
      "image/png": "[encoded data removed]",
      "text/plain": [
       "<Figure size 432x288 with 1 Axes>"
      ]
     },
     "metadata": {
      "needs_background": "light"
     },
     "output_type": "display_data"
    }
   ],
   "source": [
    "import matplotlib.pyplot as plt\n",
    "\n",
    "fig,ax = plt.subplots()\n",
    "plt.plot(tpr,fpr,label='ROC curve')\n",
    "plt.plot([0, 1], [0, 1], color='navy', linestyle='--')\n",
    "plt.xlabel('False Positive Rate')\n",
    "plt.ylabel('True Positive Rate')\n",
    "plt.title('Receiver Operating Characteristic for Email Example')\n",
    "plt.legend(loc=\"lower right\")\n",
    "plt.show()"
   ]
  }
 ],
 "metadata": {
  "kernelspec": {
   "display_name": "Python 3",
   "language": "python",
   "name": "python3"
  },
  "language_info": {
   "codemirror_mode": {
    "name": "ipython",
    "version": 3
   },
   "file_extension": ".py",
   "mimetype": "text/x-python",
   "name": "python",
   "nbconvert_exporter": "python",
   "pygments_lexer": "ipython3",
   "version": "3.8.5"
  }
 },
 "nbformat": 4,
 "nbformat_minor": 4
}
