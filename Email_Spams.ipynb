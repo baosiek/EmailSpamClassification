{
 "cells": [
  {
   "cell_type": "markdown",
   "metadata": {},
   "source": [
    "<h1><center>Email Spam Classifier</center></h1>"
   ]
  },
  {
   "cell_type": "markdown",
   "metadata": {},
   "source": [
    "This project is based on Manning's Transfer Learning for NLP in chapter 2"
   ]
  },
  {
   "cell_type": "code",
   "execution_count": 45,
   "metadata": {},
   "outputs": [],
   "source": [
    "import pandas as pd\n",
    "import numpy as np\n",
    "import email\n",
    "import os\n",
    "import pickle"
   ]
  },
  {
   "cell_type": "markdown",
   "metadata": {},
   "source": [
    "Define data file path, i.e., directory where data to train the classifier is. As this is a csv type the file is loaded with pandas read_csv function. If successfull the number of rows and columns with the first 5 rows are printed."
   ]
  },
  {
   "cell_type": "code",
   "execution_count": 11,
   "metadata": {},
   "outputs": [
    {
     "name": "stdout",
     "output_type": "stream",
     "text": [
      "Emails were loaded successfully containing 517401 rows and 2 columns\n",
      "Printing 5 first rows...\n",
      "                       file                                            message\n",
      "0     allen-p/_sent_mail/1.  Message-ID: <18782981.1075855378110.JavaMail.e...\n",
      "1    allen-p/_sent_mail/10.  Message-ID: <15464986.1075855378456.JavaMail.e...\n",
      "2   allen-p/_sent_mail/100.  Message-ID: <24216240.1075855687451.JavaMail.e...\n",
      "3  allen-p/_sent_mail/1000.  Message-ID: <13505866.1075863688222.JavaMail.e...\n",
      "4  allen-p/_sent_mail/1001.  Message-ID: <30922949.1075863688243.JavaMail.e...\n"
     ]
    }
   ],
   "source": [
    "data_file_path = \"/home/baosiek/Documents/deep_learning/transfer-learning/data/emails.csv\"\n",
    "emails = pd.read_csv(data_file_path)\n",
    "print(\"Emails were loaded successfully containing {} rows and {} columns\".format(emails.shape[0], emails.shape[1]))\n",
    "print(\"Printing 5 first rows...\")\n",
    "print(emails.head(5))"
   ]
  },
  {
   "cell_type": "markdown",
   "metadata": {},
   "source": [
    "Prints the contect of the first email, under the message column, enabling data understanding."
   ]
  },
  {
   "cell_type": "code",
   "execution_count": 19,
   "metadata": {},
   "outputs": [
    {
     "name": "stdout",
     "output_type": "stream",
     "text": [
      "Message-ID: <18782981.1075855378110.JavaMail.evans@thyme>\n",
      "Date: Mon, 14 May 2001 16:39:00 -0700 (PDT)\n",
      "From: phillip.allen@enron.com\n",
      "To: tim.belden@enron.com\n",
      "Subject: \n",
      "Mime-Version: 1.0\n",
      "Content-Type: text/plain; charset=us-ascii\n",
      "Content-Transfer-Encoding: 7bit\n",
      "X-From: Phillip K Allen\n",
      "X-To: Tim Belden <Tim Belden/Enron@EnronXGate>\n",
      "X-cc: \n",
      "X-bcc: \n",
      "X-Folder: \\Phillip_Allen_Jan2002_1\\Allen, Phillip K.\\'Sent Mail\n",
      "X-Origin: Allen-P\n",
      "X-FileName: pallen (Non-Privileged).pst\n",
      "\n",
      "Here is our forecast\n",
      "\n",
      " \n"
     ]
    }
   ],
   "source": [
    "print(emails.loc[0, \"message\"])"
   ]
  },
  {
   "cell_type": "markdown",
   "metadata": {},
   "source": [
    "Lets get only the text part of the message, discarding date, from, to and Subject info. "
   ]
  },
  {
   "cell_type": "code",
   "execution_count": 42,
   "metadata": {},
   "outputs": [],
   "source": [
    "def extract_text(emails):\n",
    "\n",
    "    # Initializes a list of texts where each row will contain only the content of the email\n",
    "    contents = []\n",
    "    \n",
    "    for item in emails[\"message\"]:\n",
    "        e = email.message_from_string(item)\n",
    "        content = e.get_payload() # Gets only a string with the email content\n",
    "        contents.append(content)\n",
    "        \n",
    "    return contents"
   ]
  },
  {
   "cell_type": "code",
   "execution_count": 54,
   "metadata": {},
   "outputs": [
    {
     "name": "stdout",
     "output_type": "stream",
     "text": [
      "I tried the new address but I don't have access.  also, what do I need to \n",
      "enter under domain?\n"
     ]
    }
   ],
   "source": [
    "# This process may take sometime. So we first check if the emails were already\n",
    "# processed with their respective content in a list. If this data is not found this \n",
    "# procedure extracts the content from the emails and stores is.\n",
    "if not os.path.exists('/home/baosiek/Documents/deep_learning/transfer-learning/data/contents.txt'):\n",
    "    contents = extract_text(emails)\n",
    "    with open(\"./data/contents.txt\", \"wb\") as fp:   # Serializing\n",
    "        pickle.dump(contents, fp)\n",
    "else:\n",
    "    with open(\"./data/contents.txt\", \"rb\") as fp:   # Deserializing\n",
    "        contents = pickle.load(fp)\n",
    "        \n",
    "\n",
    "# Prints the content at row 100\n",
    "print(contents[100])"
   ]
  }
 ],
 "metadata": {
  "kernelspec": {
   "display_name": "Python 3",
   "language": "python",
   "name": "python3"
  },
  "language_info": {
   "codemirror_mode": {
    "name": "ipython",
    "version": 3
   },
   "file_extension": ".py",
   "mimetype": "text/x-python",
   "name": "python",
   "nbconvert_exporter": "python",
   "pygments_lexer": "ipython3",
   "version": "3.8.5"
  }
 },
 "nbformat": 4,
 "nbformat_minor": 4
}
